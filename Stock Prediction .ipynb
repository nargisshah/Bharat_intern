{
 "cells": [
  {
   "cell_type": "markdown",
   "id": "f56a89f9",
   "metadata": {},
   "source": [
    "# Task  1 : Stock Prediction "
   ]
  },
  {
   "cell_type": "markdown",
   "id": "da392699",
   "metadata": {},
   "source": [
    "<img src=\"stock.jpg\" title=\"STOCK MARKET\">"
   ]
  },
  {
   "cell_type": "markdown",
   "id": "ed9e57b4",
   "metadata": {},
   "source": [
    "# Importing the Libraries"
   ]
  },
  {
   "cell_type": "code",
   "execution_count": 6,
   "id": "d343e678",
   "metadata": {},
   "outputs": [],
   "source": [
    "import numpy as np\n",
    "import pandas as pd\n",
    "import matplotlib.pyplot as plt\n",
    "import tensorflow as tf\n",
    "from sklearn.preprocessing import MinMaxScaler"
   ]
  },
  {
   "cell_type": "markdown",
   "id": "2ce788f5",
   "metadata": {},
   "source": [
    "# Reading the Dataset"
   ]
  },
  {
   "cell_type": "code",
   "execution_count": 7,
   "id": "bbd8d0d7",
   "metadata": {},
   "outputs": [],
   "source": [
    "tg = pd.read_csv(\"NSE-TATAGLOBAL11.csv\")"
   ]
  },
  {
   "cell_type": "raw",
   "id": "1aa4e55d",
   "metadata": {},
   "source": [
    "# tg.head()"
   ]
  },
  {
   "cell_type": "code",
   "execution_count": 9,
   "id": "cc559626",
   "metadata": {},
   "outputs": [
    {
     "data": {
      "text/html": [
       "<div>\n",
       "<style scoped>\n",
       "    .dataframe tbody tr th:only-of-type {\n",
       "        vertical-align: middle;\n",
       "    }\n",
       "\n",
       "    .dataframe tbody tr th {\n",
       "        vertical-align: top;\n",
       "    }\n",
       "\n",
       "    .dataframe thead th {\n",
       "        text-align: right;\n",
       "    }\n",
       "</style>\n",
       "<table border=\"1\" class=\"dataframe\">\n",
       "  <thead>\n",
       "    <tr style=\"text-align: right;\">\n",
       "      <th></th>\n",
       "      <th>Date</th>\n",
       "      <th>Open</th>\n",
       "      <th>High</th>\n",
       "      <th>Low</th>\n",
       "      <th>Last</th>\n",
       "      <th>Close</th>\n",
       "      <th>Total Trade Quantity</th>\n",
       "      <th>Turnover (Lacs)</th>\n",
       "    </tr>\n",
       "  </thead>\n",
       "  <tbody>\n",
       "    <tr>\n",
       "      <th>1230</th>\n",
       "      <td>2013-10-14</td>\n",
       "      <td>160.85</td>\n",
       "      <td>161.45</td>\n",
       "      <td>157.70</td>\n",
       "      <td>159.3</td>\n",
       "      <td>159.45</td>\n",
       "      <td>1281419.0</td>\n",
       "      <td>2039.09</td>\n",
       "    </tr>\n",
       "    <tr>\n",
       "      <th>1231</th>\n",
       "      <td>2013-10-11</td>\n",
       "      <td>161.15</td>\n",
       "      <td>163.45</td>\n",
       "      <td>159.00</td>\n",
       "      <td>159.8</td>\n",
       "      <td>160.05</td>\n",
       "      <td>1880046.0</td>\n",
       "      <td>3030.76</td>\n",
       "    </tr>\n",
       "    <tr>\n",
       "      <th>1232</th>\n",
       "      <td>2013-10-10</td>\n",
       "      <td>156.00</td>\n",
       "      <td>160.80</td>\n",
       "      <td>155.85</td>\n",
       "      <td>160.3</td>\n",
       "      <td>160.15</td>\n",
       "      <td>3124853.0</td>\n",
       "      <td>4978.80</td>\n",
       "    </tr>\n",
       "    <tr>\n",
       "      <th>1233</th>\n",
       "      <td>2013-10-09</td>\n",
       "      <td>155.70</td>\n",
       "      <td>158.20</td>\n",
       "      <td>154.15</td>\n",
       "      <td>155.3</td>\n",
       "      <td>155.55</td>\n",
       "      <td>2049580.0</td>\n",
       "      <td>3204.49</td>\n",
       "    </tr>\n",
       "    <tr>\n",
       "      <th>1234</th>\n",
       "      <td>2013-10-08</td>\n",
       "      <td>157.00</td>\n",
       "      <td>157.80</td>\n",
       "      <td>155.20</td>\n",
       "      <td>155.8</td>\n",
       "      <td>155.80</td>\n",
       "      <td>1720413.0</td>\n",
       "      <td>2688.94</td>\n",
       "    </tr>\n",
       "  </tbody>\n",
       "</table>\n",
       "</div>"
      ],
      "text/plain": [
       "            Date    Open    High     Low   Last   Close  Total Trade Quantity  \\\n",
       "1230  2013-10-14  160.85  161.45  157.70  159.3  159.45             1281419.0   \n",
       "1231  2013-10-11  161.15  163.45  159.00  159.8  160.05             1880046.0   \n",
       "1232  2013-10-10  156.00  160.80  155.85  160.3  160.15             3124853.0   \n",
       "1233  2013-10-09  155.70  158.20  154.15  155.3  155.55             2049580.0   \n",
       "1234  2013-10-08  157.00  157.80  155.20  155.8  155.80             1720413.0   \n",
       "\n",
       "      Turnover (Lacs)  \n",
       "1230          2039.09  \n",
       "1231          3030.76  \n",
       "1232          4978.80  \n",
       "1233          3204.49  \n",
       "1234          2688.94  "
      ]
     },
     "execution_count": 9,
     "metadata": {},
     "output_type": "execute_result"
    }
   ],
   "source": [
    "tg.tail()"
   ]
  },
  {
   "cell_type": "code",
   "execution_count": null,
   "id": "817d5bb1",
   "metadata": {},
   "outputs": [],
   "source": []
  },
  {
   "cell_type": "markdown",
   "id": "f6c2b0dd",
   "metadata": {},
   "source": [
    "# Sorting The Data"
   ]
  },
  {
   "cell_type": "markdown",
   "id": "57e57637",
   "metadata": {},
   "source": [
    "Checking for null Values"
   ]
  },
  {
   "cell_type": "code",
   "execution_count": 10,
   "id": "3754f083",
   "metadata": {},
   "outputs": [
    {
     "data": {
      "text/html": [
       "<div>\n",
       "<style scoped>\n",
       "    .dataframe tbody tr th:only-of-type {\n",
       "        vertical-align: middle;\n",
       "    }\n",
       "\n",
       "    .dataframe tbody tr th {\n",
       "        vertical-align: top;\n",
       "    }\n",
       "\n",
       "    .dataframe thead th {\n",
       "        text-align: right;\n",
       "    }\n",
       "</style>\n",
       "<table border=\"1\" class=\"dataframe\">\n",
       "  <thead>\n",
       "    <tr style=\"text-align: right;\">\n",
       "      <th></th>\n",
       "      <th>column_name</th>\n",
       "      <th>percentage</th>\n",
       "    </tr>\n",
       "  </thead>\n",
       "  <tbody>\n",
       "    <tr>\n",
       "      <th>0</th>\n",
       "      <td>Date</td>\n",
       "      <td>0.0</td>\n",
       "    </tr>\n",
       "    <tr>\n",
       "      <th>1</th>\n",
       "      <td>Open</td>\n",
       "      <td>0.0</td>\n",
       "    </tr>\n",
       "    <tr>\n",
       "      <th>2</th>\n",
       "      <td>High</td>\n",
       "      <td>0.0</td>\n",
       "    </tr>\n",
       "    <tr>\n",
       "      <th>3</th>\n",
       "      <td>Low</td>\n",
       "      <td>0.0</td>\n",
       "    </tr>\n",
       "    <tr>\n",
       "      <th>4</th>\n",
       "      <td>Last</td>\n",
       "      <td>0.0</td>\n",
       "    </tr>\n",
       "    <tr>\n",
       "      <th>5</th>\n",
       "      <td>Close</td>\n",
       "      <td>0.0</td>\n",
       "    </tr>\n",
       "    <tr>\n",
       "      <th>6</th>\n",
       "      <td>Total Trade Quantity</td>\n",
       "      <td>0.0</td>\n",
       "    </tr>\n",
       "    <tr>\n",
       "      <th>7</th>\n",
       "      <td>Turnover (Lacs)</td>\n",
       "      <td>0.0</td>\n",
       "    </tr>\n",
       "  </tbody>\n",
       "</table>\n",
       "</div>"
      ],
      "text/plain": [
       "            column_name  percentage\n",
       "0                  Date         0.0\n",
       "1                  Open         0.0\n",
       "2                  High         0.0\n",
       "3                   Low         0.0\n",
       "4                  Last         0.0\n",
       "5                 Close         0.0\n",
       "6  Total Trade Quantity         0.0\n",
       "7       Turnover (Lacs)         0.0"
      ]
     },
     "execution_count": 10,
     "metadata": {},
     "output_type": "execute_result"
    }
   ],
   "source": [
    "NAN = [(c, tg[c].isnull().mean()*100) for c in tg]\n",
    "NAN = pd.DataFrame(NAN, columns=['column_name', 'percentage'])\n",
    "NAN"
   ]
  },
  {
   "cell_type": "code",
   "execution_count": 11,
   "id": "cc2f0619",
   "metadata": {},
   "outputs": [
    {
     "data": {
      "text/html": [
       "<div>\n",
       "<style scoped>\n",
       "    .dataframe tbody tr th:only-of-type {\n",
       "        vertical-align: middle;\n",
       "    }\n",
       "\n",
       "    .dataframe tbody tr th {\n",
       "        vertical-align: top;\n",
       "    }\n",
       "\n",
       "    .dataframe thead th {\n",
       "        text-align: right;\n",
       "    }\n",
       "</style>\n",
       "<table border=\"1\" class=\"dataframe\">\n",
       "  <thead>\n",
       "    <tr style=\"text-align: right;\">\n",
       "      <th></th>\n",
       "      <th>Date</th>\n",
       "      <th>Open</th>\n",
       "      <th>High</th>\n",
       "      <th>Low</th>\n",
       "      <th>Last</th>\n",
       "      <th>Close</th>\n",
       "      <th>Total Trade Quantity</th>\n",
       "      <th>Turnover (Lacs)</th>\n",
       "    </tr>\n",
       "  </thead>\n",
       "  <tbody>\n",
       "    <tr>\n",
       "      <th>1234</th>\n",
       "      <td>2013-10-08</td>\n",
       "      <td>157.00</td>\n",
       "      <td>157.80</td>\n",
       "      <td>155.20</td>\n",
       "      <td>155.8</td>\n",
       "      <td>155.80</td>\n",
       "      <td>1720413.0</td>\n",
       "      <td>2688.94</td>\n",
       "    </tr>\n",
       "    <tr>\n",
       "      <th>1233</th>\n",
       "      <td>2013-10-09</td>\n",
       "      <td>155.70</td>\n",
       "      <td>158.20</td>\n",
       "      <td>154.15</td>\n",
       "      <td>155.3</td>\n",
       "      <td>155.55</td>\n",
       "      <td>2049580.0</td>\n",
       "      <td>3204.49</td>\n",
       "    </tr>\n",
       "    <tr>\n",
       "      <th>1232</th>\n",
       "      <td>2013-10-10</td>\n",
       "      <td>156.00</td>\n",
       "      <td>160.80</td>\n",
       "      <td>155.85</td>\n",
       "      <td>160.3</td>\n",
       "      <td>160.15</td>\n",
       "      <td>3124853.0</td>\n",
       "      <td>4978.80</td>\n",
       "    </tr>\n",
       "    <tr>\n",
       "      <th>1231</th>\n",
       "      <td>2013-10-11</td>\n",
       "      <td>161.15</td>\n",
       "      <td>163.45</td>\n",
       "      <td>159.00</td>\n",
       "      <td>159.8</td>\n",
       "      <td>160.05</td>\n",
       "      <td>1880046.0</td>\n",
       "      <td>3030.76</td>\n",
       "    </tr>\n",
       "    <tr>\n",
       "      <th>1230</th>\n",
       "      <td>2013-10-14</td>\n",
       "      <td>160.85</td>\n",
       "      <td>161.45</td>\n",
       "      <td>157.70</td>\n",
       "      <td>159.3</td>\n",
       "      <td>159.45</td>\n",
       "      <td>1281419.0</td>\n",
       "      <td>2039.09</td>\n",
       "    </tr>\n",
       "  </tbody>\n",
       "</table>\n",
       "</div>"
      ],
      "text/plain": [
       "            Date    Open    High     Low   Last   Close  Total Trade Quantity  \\\n",
       "1234  2013-10-08  157.00  157.80  155.20  155.8  155.80             1720413.0   \n",
       "1233  2013-10-09  155.70  158.20  154.15  155.3  155.55             2049580.0   \n",
       "1232  2013-10-10  156.00  160.80  155.85  160.3  160.15             3124853.0   \n",
       "1231  2013-10-11  161.15  163.45  159.00  159.8  160.05             1880046.0   \n",
       "1230  2013-10-14  160.85  161.45  157.70  159.3  159.45             1281419.0   \n",
       "\n",
       "      Turnover (Lacs)  \n",
       "1234          2688.94  \n",
       "1233          3204.49  \n",
       "1232          4978.80  \n",
       "1231          3030.76  \n",
       "1230          2039.09  "
      ]
     },
     "execution_count": 11,
     "metadata": {},
     "output_type": "execute_result"
    }
   ],
   "source": [
    "srt=tg.sort_values(by='Date')\n",
    "srt.head()"
   ]
  },
  {
   "cell_type": "code",
   "execution_count": 12,
   "id": "d9810cf2",
   "metadata": {},
   "outputs": [],
   "source": [
    "srt.reset_index(inplace=True)"
   ]
  },
  {
   "cell_type": "code",
   "execution_count": 13,
   "id": "1c444a21",
   "metadata": {},
   "outputs": [
    {
     "data": {
      "text/html": [
       "<div>\n",
       "<style scoped>\n",
       "    .dataframe tbody tr th:only-of-type {\n",
       "        vertical-align: middle;\n",
       "    }\n",
       "\n",
       "    .dataframe tbody tr th {\n",
       "        vertical-align: top;\n",
       "    }\n",
       "\n",
       "    .dataframe thead th {\n",
       "        text-align: right;\n",
       "    }\n",
       "</style>\n",
       "<table border=\"1\" class=\"dataframe\">\n",
       "  <thead>\n",
       "    <tr style=\"text-align: right;\">\n",
       "      <th></th>\n",
       "      <th>index</th>\n",
       "      <th>Date</th>\n",
       "      <th>Open</th>\n",
       "      <th>High</th>\n",
       "      <th>Low</th>\n",
       "      <th>Last</th>\n",
       "      <th>Close</th>\n",
       "      <th>Total Trade Quantity</th>\n",
       "      <th>Turnover (Lacs)</th>\n",
       "    </tr>\n",
       "  </thead>\n",
       "  <tbody>\n",
       "    <tr>\n",
       "      <th>0</th>\n",
       "      <td>1234</td>\n",
       "      <td>2013-10-08</td>\n",
       "      <td>157.00</td>\n",
       "      <td>157.80</td>\n",
       "      <td>155.20</td>\n",
       "      <td>155.8</td>\n",
       "      <td>155.80</td>\n",
       "      <td>1720413.0</td>\n",
       "      <td>2688.94</td>\n",
       "    </tr>\n",
       "    <tr>\n",
       "      <th>1</th>\n",
       "      <td>1233</td>\n",
       "      <td>2013-10-09</td>\n",
       "      <td>155.70</td>\n",
       "      <td>158.20</td>\n",
       "      <td>154.15</td>\n",
       "      <td>155.3</td>\n",
       "      <td>155.55</td>\n",
       "      <td>2049580.0</td>\n",
       "      <td>3204.49</td>\n",
       "    </tr>\n",
       "    <tr>\n",
       "      <th>2</th>\n",
       "      <td>1232</td>\n",
       "      <td>2013-10-10</td>\n",
       "      <td>156.00</td>\n",
       "      <td>160.80</td>\n",
       "      <td>155.85</td>\n",
       "      <td>160.3</td>\n",
       "      <td>160.15</td>\n",
       "      <td>3124853.0</td>\n",
       "      <td>4978.80</td>\n",
       "    </tr>\n",
       "    <tr>\n",
       "      <th>3</th>\n",
       "      <td>1231</td>\n",
       "      <td>2013-10-11</td>\n",
       "      <td>161.15</td>\n",
       "      <td>163.45</td>\n",
       "      <td>159.00</td>\n",
       "      <td>159.8</td>\n",
       "      <td>160.05</td>\n",
       "      <td>1880046.0</td>\n",
       "      <td>3030.76</td>\n",
       "    </tr>\n",
       "    <tr>\n",
       "      <th>4</th>\n",
       "      <td>1230</td>\n",
       "      <td>2013-10-14</td>\n",
       "      <td>160.85</td>\n",
       "      <td>161.45</td>\n",
       "      <td>157.70</td>\n",
       "      <td>159.3</td>\n",
       "      <td>159.45</td>\n",
       "      <td>1281419.0</td>\n",
       "      <td>2039.09</td>\n",
       "    </tr>\n",
       "  </tbody>\n",
       "</table>\n",
       "</div>"
      ],
      "text/plain": [
       "   index        Date    Open    High     Low   Last   Close  \\\n",
       "0   1234  2013-10-08  157.00  157.80  155.20  155.8  155.80   \n",
       "1   1233  2013-10-09  155.70  158.20  154.15  155.3  155.55   \n",
       "2   1232  2013-10-10  156.00  160.80  155.85  160.3  160.15   \n",
       "3   1231  2013-10-11  161.15  163.45  159.00  159.8  160.05   \n",
       "4   1230  2013-10-14  160.85  161.45  157.70  159.3  159.45   \n",
       "\n",
       "   Total Trade Quantity  Turnover (Lacs)  \n",
       "0             1720413.0          2688.94  \n",
       "1             2049580.0          3204.49  \n",
       "2             3124853.0          4978.80  \n",
       "3             1880046.0          3030.76  \n",
       "4             1281419.0          2039.09  "
      ]
     },
     "execution_count": 13,
     "metadata": {},
     "output_type": "execute_result"
    }
   ],
   "source": [
    "srt.head()"
   ]
  },
  {
   "cell_type": "code",
   "execution_count": null,
   "id": "85fe0f47",
   "metadata": {},
   "outputs": [],
   "source": []
  },
  {
   "cell_type": "markdown",
   "id": "89a9b1ce",
   "metadata": {},
   "source": [
    "# Visualization of Data\n"
   ]
  },
  {
   "cell_type": "code",
   "execution_count": 14,
   "id": "31fb8678",
   "metadata": {},
   "outputs": [
    {
     "data": {
      "text/plain": [
       "[<matplotlib.lines.Line2D at 0x1b123165fd0>]"
      ]
     },
     "execution_count": 14,
     "metadata": {},
     "output_type": "execute_result"
    },
    {
     "data": {
      "image/png": "[encoded data removed]",
      "text/plain": [
       "<Figure size 720x504 with 1 Axes>"
      ]
     },
     "metadata": {
      "needs_background": "light"
     },
     "output_type": "display_data"
    }
   ],
   "source": [
    "plt.figure(figsize=(10,7))\n",
    "plt.plot(srt['Date'],srt['Close'])"
   ]
  },
  {
   "cell_type": "code",
   "execution_count": 15,
   "id": "d9ff1d9e",
   "metadata": {},
   "outputs": [
    {
     "data": {
      "text/plain": [
       "0       155.80\n",
       "1       155.55\n",
       "2       160.15\n",
       "3       160.05\n",
       "4       159.45\n",
       "         ...  \n",
       "1230    230.90\n",
       "1231    227.60\n",
       "1232    218.20\n",
       "1233    209.20\n",
       "1234    215.15\n",
       "Name: Close, Length: 1235, dtype: float64"
      ]
     },
     "execution_count": 15,
     "metadata": {},
     "output_type": "execute_result"
    }
   ],
   "source": [
    "close_srt = srt['Close']\n",
    "close_srt"
   ]
  },
  {
   "cell_type": "code",
   "execution_count": null,
   "id": "c89979ef",
   "metadata": {},
   "outputs": [],
   "source": []
  },
  {
   "cell_type": "markdown",
   "id": "57313c71",
   "metadata": {},
   "source": [
    "# Feature Scaling"
   ]
  },
  {
   "cell_type": "markdown",
   "id": "07c91eee",
   "metadata": {},
   "source": [
    "\n",
    "close_srt = scaler.fit_transform(np.array(close_srt).reshape(-1,1))\n",
    "close_srt"
   ]
  },
  {
   "cell_type": "code",
   "execution_count": 19,
   "id": "b7c4a294",
   "metadata": {},
   "outputs": [
    {
     "ename": "SyntaxError",
     "evalue": "invalid syntax (885054160.py, line 1)",
     "output_type": "error",
     "traceback": [
      "\u001b[1;36m  Input \u001b[1;32mIn [19]\u001b[1;36m\u001b[0m\n\u001b[1;33m    Since LSTM are sensitive to scale data, so we apply MinMax Scaler\u001b[0m\n\u001b[1;37m          ^\u001b[0m\n\u001b[1;31mSyntaxError\u001b[0m\u001b[1;31m:\u001b[0m invalid syntax\n"
     ]
    }
   ],
   "source": [
    "Since LSTM are sensitive to scale data, so we apply MinMax Scaler"
   ]
  },
  {
   "cell_type": "markdown",
   "id": "976c8cfc",
   "metadata": {},
   "source": [
    "# Splitting of  data"
   ]
  },
  {
   "cell_type": "code",
   "execution_count": 20,
   "id": "aaeeb74b",
   "metadata": {},
   "outputs": [],
   "source": [
    "train_size = int(len(close_srt)*0.7)\n",
    "test_size = len(close_srt) - train_size\n",
    "train_data,test_data = close_srt[0:train_size,:],close_srt[train_size:len(close_srt),:1]"
   ]
  },
  {
   "cell_type": "code",
   "execution_count": 21,
   "id": "8dc50d8e",
   "metadata": {},
   "outputs": [
    {
     "data": {
      "text/plain": [
       "(864, 1)"
      ]
     },
     "execution_count": 21,
     "metadata": {},
     "output_type": "execute_result"
    }
   ],
   "source": [
    "train_data.shape"
   ]
  },
  {
   "cell_type": "code",
   "execution_count": 22,
   "id": "e1001291",
   "metadata": {},
   "outputs": [
    {
     "data": {
      "text/plain": [
       "(371, 1)"
      ]
     },
     "execution_count": 22,
     "metadata": {},
     "output_type": "execute_result"
    }
   ],
   "source": [
    "test_dat"
   ]
  },
  {
   "cell_type": "markdown",
   "id": "7d98037d",
   "metadata": {},
   "source": [
    "# Convet an array of value into a dataset"
   ]
  },
  {
   "cell_type": "code",
   "execution_count": 34,
   "id": "9f154ddd",
   "metadata": {},
   "outputs": [],
   "source": [
    "def create_dataset(dataset, time_step=1):\n",
    "    dataX,dataY = [], []\n",
    "    for i in range(len(dataset)-time_step-1):\n",
    "        a = dataset[i:(i+time_step),0]\n",
    "        dataX.append(a)\n",
    "        dataY.append(dataset[i+ time_step,0])\n",
    "    return np.array(dataX), np.array(dataY)   \n",
    "                     "
   ]
  },
  {
   "cell_type": "code",
   "execution_count": null,
   "id": "cf2ec2c2",
   "metadata": {},
   "outputs": [],
   "source": [
    "\n"
   ]
  },
  {
   "cell_type": "markdown",
   "id": "61e8774c",
   "metadata": {},
   "source": [
    "# Reshaping of dataset"
   ]
  },
  {
   "cell_type": "code",
   "execution_count": 36,
   "id": "94ac09c7",
   "metadata": {},
   "outputs": [],
   "source": [
    "time_step = 100\n",
    "X_train, y_train = create_dataset(train_data, time_step)\n",
    "X_test, y_test = create_dataset(test_data, time_step)"
   ]
  },
  {
   "cell_type": "code",
   "execution_count": 38,
   "id": "1492e5b0",
   "metadata": {},
   "outputs": [
    {
     "name": "stdout",
     "output_type": "stream",
     "text": [
      "(763, 100)\n",
      "(763,)\n"
     ]
    },
    {
     "data": {
      "text/plain": [
       "(None, None)"
      ]
     },
     "execution_count": 38,
     "metadata": {},
     "output_type": "execute_result"
    }
   ],
   "source": [
    "print(X_train.shape), print(y_train.shape)"
   ]
  },
  {
   "cell_type": "code",
   "execution_count": 40,
   "id": "8e353e9f",
   "metadata": {},
   "outputs": [],
   "source": [
    "X_train =X_train.reshape(X_train.shape[0],X_train.shape[1], 1)\n",
    "X_test =X_test.reshape(X_test.shape[0],X_test.shape[1], 1)"
   ]
  },
  {
   "cell_type": "code",
   "execution_count": 41,
   "id": "f1aec7a5",
   "metadata": {},
   "outputs": [
    {
     "data": {
      "text/plain": [
       "array([[[0.23823398],\n",
       "        [0.2371134 ],\n",
       "        [0.25773196],\n",
       "        ...,\n",
       "        [0.17279247],\n",
       "        [0.16651726],\n",
       "        [0.16606903]],\n",
       "\n",
       "       [[0.2371134 ],\n",
       "        [0.25773196],\n",
       "        [0.25728373],\n",
       "        ...,\n",
       "        [0.16651726],\n",
       "        [0.16606903],\n",
       "        [0.14926042]],\n",
       "\n",
       "       [[0.25773196],\n",
       "        [0.25728373],\n",
       "        [0.25459435],\n",
       "        ...,\n",
       "        [0.16606903],\n",
       "        [0.14926042],\n",
       "        [0.16920663]],\n",
       "\n",
       "       ...,\n",
       "\n",
       "       [[0.08628418],\n",
       "        [0.10197221],\n",
       "        [0.07171672],\n",
       "        ...,\n",
       "        [0.21290901],\n",
       "        [0.21470193],\n",
       "        [0.22075303]],\n",
       "\n",
       "       [[0.10197221],\n",
       "        [0.07171672],\n",
       "        [0.06432093],\n",
       "        ...,\n",
       "        [0.21470193],\n",
       "        [0.22075303],\n",
       "        [0.22411475]],\n",
       "\n",
       "       [[0.07171672],\n",
       "        [0.06432093],\n",
       "        [0.0835948 ],\n",
       "        ...,\n",
       "        [0.22075303],\n",
       "        [0.22411475],\n",
       "        [0.22590766]]])"
      ]
     },
     "execution_count": 41,
     "metadata": {},
     "output_type": "execute_result"
    }
   ],
   "source": [
    "X_train"
   ]
  },
  {
   "cell_type": "code",
   "execution_count": 42,
   "id": "3d7b9e40",
   "metadata": {},
   "outputs": [
    {
     "data": {
      "text/plain": [
       "array([[[0.22747647],\n",
       "        [0.22008068],\n",
       "        [0.21447781],\n",
       "        ...,\n",
       "        [0.42738682],\n",
       "        [0.4255939 ],\n",
       "        [0.40632004]],\n",
       "\n",
       "       [[0.22008068],\n",
       "        [0.21447781],\n",
       "        [0.2097714 ],\n",
       "        ...,\n",
       "        [0.4255939 ],\n",
       "        [0.40632004],\n",
       "        [0.42155984]],\n",
       "\n",
       "       [[0.21447781],\n",
       "        [0.2097714 ],\n",
       "        [0.20394442],\n",
       "        ...,\n",
       "        [0.40632004],\n",
       "        [0.42155984],\n",
       "        [0.46302107]],\n",
       "\n",
       "       ...,\n",
       "\n",
       "       [[0.84872255],\n",
       "        [0.81846706],\n",
       "        [0.82855222],\n",
       "        ...,\n",
       "        [0.58538772],\n",
       "        [0.58762887],\n",
       "        [0.57485433]],\n",
       "\n",
       "       [[0.81846706],\n",
       "        [0.82855222],\n",
       "        [0.6869117 ],\n",
       "        ...,\n",
       "        [0.58762887],\n",
       "        [0.57485433],\n",
       "        [0.56006275]],\n",
       "\n",
       "       [[0.82855222],\n",
       "        [0.6869117 ],\n",
       "        [0.62752129],\n",
       "        ...,\n",
       "        [0.57485433],\n",
       "        [0.56006275],\n",
       "        [0.51792918]]])"
      ]
     },
     "execution_count": 42,
     "metadata": {},
     "output_type": "execute_result"
    }
   ],
   "source": [
    "X_test"
   ]
  },
  {
   "cell_type": "code",
   "execution_count": null,
   "id": "055ab018",
   "metadata": {},
   "outputs": [],
   "source": []
  },
  {
   "cell_type": "markdown",
   "id": "1bf234dd",
   "metadata": {},
   "source": [
    "# Creating the LSTM Model"
   ]
  },
  {
   "cell_type": "code",
   "execution_count": 43,
   "id": "39faf25e",
   "metadata": {},
   "outputs": [],
   "source": [
    "from tensorflow.keras.models import Sequential\n",
    "from tensorflow.keras.layers import Dense\n",
    "from tensorflow.keras.layers import LSTM"
   ]
  },
  {
   "cell_type": "code",
   "execution_count": 44,
   "id": "fea9ee83",
   "metadata": {},
   "outputs": [],
   "source": [
    "model=Sequential()\n",
    "model.add(LSTM(50,return_sequences=True,input_shape=(100,1)))\n",
    "model.add(LSTM(50,return_sequences=True))\n",
    "model.add(LSTM(50))\n",
    "model.add(Dense(1))\n",
    "model.compile(loss='mean_squared_error',optimizer='adam')\n"
   ]
  },
  {
   "cell_type": "code",
   "execution_count": 45,
   "id": "fc919784",
   "metadata": {},
   "outputs": [
    {
     "name": "stdout",
     "output_type": "stream",
     "text": [
      "Model: \"sequential\"\n",
      "_________________________________________________________________\n",
      " Layer (type)                Output Shape              Param #   \n",
      "=================================================================\n",
      " lstm (LSTM)                 (None, 100, 50)           10400     \n",
      "                                                                 \n",
      " lstm_1 (LSTM)               (None, 100, 50)           20200     \n",
      "                                                                 \n",
      " lstm_2 (LSTM)               (None, 50)                20200     \n",
      "                                                                 \n",
      " dense (Dense)               (None, 1)                 51        \n",
      "                                                                 \n",
      "=================================================================\n",
      "Total params: 50,851\n",
      "Trainable params: 50,851\n",
      "Non-trainable params: 0\n",
      "_________________________________________________________________\n"
     ]
    }
   ],
   "source": [
    "model.summary()"
   ]
  },
  {
   "cell_type": "code",
   "execution_count": null,
   "id": "1a39d4f9",
   "metadata": {},
   "outputs": [],
   "source": []
  },
  {
   "cell_type": "markdown",
   "id": "24fe5b7f",
   "metadata": {},
   "source": [
    "# Predicition and Checking Performance"
   ]
  },
  {
   "cell_type": "code",
   "execution_count": 46,
   "id": "c3cf00a7",
   "metadata": {},
   "outputs": [
    {
     "name": "stdout",
     "output_type": "stream",
     "text": [
      "Epoch 1/60\n",
      "11/11 [==============================] - 9s 280ms/step - loss: 0.0074 - val_loss: 0.0015\n",
      "Epoch 2/60\n",
      "11/11 [==============================] - 2s 156ms/step - loss: 0.0024 - val_loss: 0.0011\n",
      "Epoch 3/60\n",
      "11/11 [==============================] - 2s 145ms/step - loss: 0.0018 - val_loss: 6.5436e-04\n",
      "Epoch 4/60\n",
      "11/11 [==============================] - 2s 161ms/step - loss: 0.0012 - val_loss: 8.2370e-04\n",
      "Epoch 5/60\n",
      "11/11 [==============================] - 2s 159ms/step - loss: 0.0011 - val_loss: 7.6207e-04\n",
      "Epoch 6/60\n",
      "11/11 [==============================] - 2s 158ms/step - loss: 0.0010 - val_loss: 7.7905e-04\n",
      "Epoch 7/60\n",
      "11/11 [==============================] - 2s 172ms/step - loss: 9.6353e-04 - val_loss: 7.2906e-04\n",
      "Epoch 8/60\n",
      "11/11 [==============================] - 2s 163ms/step - loss: 9.2990e-04 - val_loss: 5.8053e-04\n",
      "Epoch 9/60\n",
      "11/11 [==============================] - 2s 159ms/step - loss: 9.1260e-04 - val_loss: 7.2361e-04\n",
      "Epoch 10/60\n",
      "11/11 [==============================] - 2s 196ms/step - loss: 8.9454e-04 - val_loss: 6.0739e-04\n",
      "Epoch 11/60\n",
      "11/11 [==============================] - 2s 181ms/step - loss: 8.3432e-04 - val_loss: 6.0454e-04\n",
      "Epoch 12/60\n",
      "11/11 [==============================] - 2s 187ms/step - loss: 8.0903e-04 - val_loss: 5.5409e-04\n",
      "Epoch 13/60\n",
      "11/11 [==============================] - 2s 191ms/step - loss: 7.7297e-04 - val_loss: 4.9581e-04\n",
      "Epoch 14/60\n",
      "11/11 [==============================] - 2s 178ms/step - loss: 7.4506e-04 - val_loss: 3.7356e-04\n",
      "Epoch 15/60\n",
      "11/11 [==============================] - 2s 195ms/step - loss: 7.2155e-04 - val_loss: 4.7187e-04\n",
      "Epoch 16/60\n",
      "11/11 [==============================] - 2s 179ms/step - loss: 7.1669e-04 - val_loss: 3.9591e-04\n",
      "Epoch 17/60\n",
      "11/11 [==============================] - 2s 192ms/step - loss: 6.7828e-04 - val_loss: 4.3883e-04\n",
      "Epoch 18/60\n",
      "11/11 [==============================] - 2s 192ms/step - loss: 6.5749e-04 - val_loss: 4.3499e-04\n",
      "Epoch 19/60\n",
      "11/11 [==============================] - 2s 182ms/step - loss: 6.3867e-04 - val_loss: 3.7367e-04\n",
      "Epoch 20/60\n",
      "11/11 [==============================] - 2s 196ms/step - loss: 6.5136e-04 - val_loss: 4.3506e-04\n",
      "Epoch 21/60\n",
      "11/11 [==============================] - 2s 172ms/step - loss: 6.3639e-04 - val_loss: 3.5942e-04\n",
      "Epoch 22/60\n",
      "11/11 [==============================] - 2s 199ms/step - loss: 5.8772e-04 - val_loss: 4.2441e-04\n",
      "Epoch 23/60\n",
      "11/11 [==============================] - 2s 189ms/step - loss: 5.6261e-04 - val_loss: 3.8400e-04\n",
      "Epoch 24/60\n",
      "11/11 [==============================] - 2s 186ms/step - loss: 5.6310e-04 - val_loss: 4.2259e-04\n",
      "Epoch 25/60\n",
      "11/11 [==============================] - 2s 195ms/step - loss: 5.4520e-04 - val_loss: 4.4141e-04\n",
      "Epoch 26/60\n",
      "11/11 [==============================] - 2s 175ms/step - loss: 5.4561e-04 - val_loss: 3.4928e-04\n",
      "Epoch 27/60\n",
      "11/11 [==============================] - 2s 195ms/step - loss: 5.5605e-04 - val_loss: 3.6876e-04\n",
      "Epoch 28/60\n",
      "11/11 [==============================] - 2s 210ms/step - loss: 5.1508e-04 - val_loss: 3.6602e-04\n",
      "Epoch 29/60\n",
      "11/11 [==============================] - 2s 191ms/step - loss: 5.3683e-04 - val_loss: 4.7581e-04\n",
      "Epoch 30/60\n",
      "11/11 [==============================] - 2s 190ms/step - loss: 5.9056e-04 - val_loss: 2.9423e-04\n",
      "Epoch 31/60\n",
      "11/11 [==============================] - 2s 182ms/step - loss: 5.0808e-04 - val_loss: 3.8212e-04\n",
      "Epoch 32/60\n",
      "11/11 [==============================] - 2s 198ms/step - loss: 5.1119e-04 - val_loss: 3.1813e-04\n",
      "Epoch 33/60\n",
      "11/11 [==============================] - 2s 193ms/step - loss: 4.9627e-04 - val_loss: 4.0387e-04\n",
      "Epoch 34/60\n",
      "11/11 [==============================] - 2s 200ms/step - loss: 4.7426e-04 - val_loss: 3.5897e-04\n",
      "Epoch 35/60\n",
      "11/11 [==============================] - 2s 186ms/step - loss: 4.7219e-04 - val_loss: 3.6304e-04\n",
      "Epoch 36/60\n",
      "11/11 [==============================] - 2s 192ms/step - loss: 4.5593e-04 - val_loss: 3.2056e-04\n",
      "Epoch 37/60\n",
      "11/11 [==============================] - 2s 192ms/step - loss: 4.6723e-04 - val_loss: 2.9310e-04\n",
      "Epoch 38/60\n",
      "11/11 [==============================] - 2s 181ms/step - loss: 4.7313e-04 - val_loss: 5.6802e-04\n",
      "Epoch 39/60\n",
      "11/11 [==============================] - 2s 197ms/step - loss: 4.6885e-04 - val_loss: 3.4823e-04\n",
      "Epoch 40/60\n",
      "11/11 [==============================] - 2s 180ms/step - loss: 4.3346e-04 - val_loss: 2.5796e-04\n",
      "Epoch 41/60\n",
      "11/11 [==============================] - 2s 194ms/step - loss: 4.6375e-04 - val_loss: 2.8793e-04\n",
      "Epoch 42/60\n",
      "11/11 [==============================] - 2s 192ms/step - loss: 4.1494e-04 - val_loss: 3.2210e-04\n",
      "Epoch 43/60\n",
      "11/11 [==============================] - 2s 190ms/step - loss: 4.1095e-04 - val_loss: 2.8178e-04\n",
      "Epoch 44/60\n",
      "11/11 [==============================] - 2s 200ms/step - loss: 4.1197e-04 - val_loss: 2.8886e-04\n",
      "Epoch 45/60\n",
      "11/11 [==============================] - 2s 180ms/step - loss: 3.9540e-04 - val_loss: 2.6572e-04\n",
      "Epoch 46/60\n",
      "11/11 [==============================] - 2s 212ms/step - loss: 3.9050e-04 - val_loss: 2.2949e-04\n",
      "Epoch 47/60\n",
      "11/11 [==============================] - 2s 190ms/step - loss: 3.9643e-04 - val_loss: 2.5135e-04\n",
      "Epoch 48/60\n",
      "11/11 [==============================] - 2s 195ms/step - loss: 3.6826e-04 - val_loss: 2.5518e-04\n",
      "Epoch 49/60\n",
      "11/11 [==============================] - 2s 190ms/step - loss: 3.6764e-04 - val_loss: 2.7788e-04\n",
      "Epoch 50/60\n",
      "11/11 [==============================] - 2s 185ms/step - loss: 3.7392e-04 - val_loss: 2.2108e-04\n",
      "Epoch 51/60\n",
      "11/11 [==============================] - 2s 199ms/step - loss: 3.7466e-04 - val_loss: 3.6820e-04\n",
      "Epoch 52/60\n",
      "11/11 [==============================] - 2s 204ms/step - loss: 3.6108e-04 - val_loss: 2.1599e-04\n",
      "Epoch 53/60\n",
      "11/11 [==============================] - 2s 206ms/step - loss: 3.6746e-04 - val_loss: 2.4097e-04\n",
      "Epoch 54/60\n",
      "11/11 [==============================] - 2s 204ms/step - loss: 3.7395e-04 - val_loss: 2.9635e-04\n",
      "Epoch 55/60\n",
      "11/11 [==============================] - 2s 204ms/step - loss: 3.2560e-04 - val_loss: 2.1272e-04\n",
      "Epoch 56/60\n",
      "11/11 [==============================] - 2s 190ms/step - loss: 3.1524e-04 - val_loss: 2.2265e-04\n",
      "Epoch 57/60\n",
      "11/11 [==============================] - 2s 194ms/step - loss: 3.1797e-04 - val_loss: 2.6558e-04\n",
      "Epoch 58/60\n",
      "11/11 [==============================] - 2s 199ms/step - loss: 3.1266e-04 - val_loss: 2.1792e-04\n",
      "Epoch 59/60\n",
      "11/11 [==============================] - 2s 180ms/step - loss: 3.0124e-04 - val_loss: 1.8352e-04\n",
      "Epoch 60/60\n",
      "11/11 [==============================] - 2s 204ms/step - loss: 3.0607e-04 - val_loss: 2.1486e-04\n"
     ]
    },
    {
     "data": {
      "text/plain": [
       "<keras.callbacks.History at 0x1b1255e7d90>"
      ]
     },
     "execution_count": 46,
     "metadata": {},
     "output_type": "execute_result"
    }
   ],
   "source": [
    "model.fit(X_train,y_train,validation_split=0.1,epochs=60,batch_size=64,verbose=1)"
   ]
  },
  {
   "cell_type": "code",
   "execution_count": 47,
   "id": "d974aa3d",
   "metadata": {},
   "outputs": [
    {
     "name": "stdout",
     "output_type": "stream",
     "text": [
      "24/24 [==============================] - 2s 37ms/step\n",
      "9/9 [==============================] - 0s 31ms/step\n"
     ]
    }
   ],
   "source": [
    "train_predict = model.predict(X_train)\n",
    "test_predict = model.predict(X_test)"
   ]
  },
  {
   "cell_type": "markdown",
   "id": "a15560bd",
   "metadata": {},
   "source": [
    "# calculating the performance"
   ]
  },
  {
   "cell_type": "code",
   "execution_count": 48,
   "id": "d5891822",
   "metadata": {},
   "outputs": [],
   "source": [
    "import math\n",
    "from sklearn.metrics import mean_squared_error"
   ]
  },
  {
   "cell_type": "code",
   "execution_count": 49,
   "id": "9c78ed2e",
   "metadata": {},
   "outputs": [
    {
     "data": {
      "text/plain": [
       "0.016627620197684375"
      ]
     },
     "execution_count": 49,
     "metadata": {},
     "output_type": "execute_result"
    }
   ],
   "source": [
    "math.sqrt(mean_squared_error(y_train,train_predict))"
   ]
  },
  {
   "cell_type": "code",
   "execution_count": 54,
   "id": "33b6d091",
   "metadata": {},
   "outputs": [
    {
     "data": {
      "text/plain": [
       "0.036153591301116714"
      ]
     },
     "execution_count": 54,
     "metadata": {},
     "output_type": "execute_result"
    }
   ],
   "source": [
    "math.sqrt(mean_squared_error(y_test,test_predict))"
   ]
  },
  {
   "cell_type": "code",
   "execution_count": null,
   "id": "7d008b14",
   "metadata": {},
   "outputs": [],
   "source": []
  },
  {
   "cell_type": "code",
   "execution_count": null,
   "id": "6d7ab458",
   "metadata": {},
   "outputs": [],
   "source": []
  },
  {
   "cell_type": "code",
   "execution_count": 57,
   "id": "22382d7f",
   "metadata": {},
   "outputs": [
    {
     "data": {
      "text/plain": [
       "<function matplotlib.pyplot.show(close=None, block=None)>"
      ]
     },
     "execution_count": 57,
     "metadata": {},
     "output_type": "execute_result"
    },
    {
     "data": {
      "image/png": "[encoded data removed]",
      "text/plain": [
       "<Figure size 720x504 with 1 Axes>"
      ]
     },
     "metadata": {
      "needs_background": "light"
     },
     "output_type": "display_data"
    }
   ],
   "source": [
    "look_back=100\n",
    "\n",
    "trainPredictPlot = np.empty_like(close_srt)\n",
    "trainPredictPlot[:, :] = np.nan\n",
    "trainPredictPlot[look_back:len(train_predict)+look_back, :] = train_predict\n",
    "testPredictPlot  = np.empty_like(close_srt)\n",
    "testPredictPlot[:, :] = np.nan\n",
    "testPredictPlot[len(train_predict)+(look_back*2)+1:len(close_srt)-1,:] = test_predict\n",
    "plt.figure(figsize=(10,7))\n",
    "plt.plot(scaler.inverse_transform(close_srt))\n",
    "plt.plot(trainPredictPlot)\n",
    "plt.plot(trainPredictPlot)\n",
    "plt.show"
   ]
  },
  {
   "cell_type": "markdown",
   "id": "0af4933b",
   "metadata": {},
   "source": [
    "# prediction for next 30 days"
   ]
  },
  {
   "cell_type": "code",
   "execution_count": 58,
   "id": "37788080",
   "metadata": {},
   "outputs": [
    {
     "data": {
      "text/plain": [
       "371"
      ]
     },
     "execution_count": 58,
     "metadata": {},
     "output_type": "execute_result"
    }
   ],
   "source": [
    "len(test_data)"
   ]
  },
  {
   "cell_type": "code",
   "execution_count": 59,
   "id": "fc271393",
   "metadata": {},
   "outputs": [
    {
     "data": {
      "text/plain": [
       "(1, 0)"
      ]
     },
     "execution_count": 59,
     "metadata": {},
     "output_type": "execute_result"
    }
   ],
   "source": [
    "pred_input=test_data[511:].reshape(1,-1)\n",
    "pred_input.shape"
   ]
  },
  {
   "cell_type": "code",
   "execution_count": 60,
   "id": "be8bfcea",
   "metadata": {},
   "outputs": [],
   "source": [
    "temp_input=list(pred_input)\n",
    "temp_input=temp_input[0].tolist()"
   ]
  },
  {
   "cell_type": "code",
   "execution_count": null,
   "id": "14439bee",
   "metadata": {},
   "outputs": [],
   "source": []
  },
  {
   "cell_type": "code",
   "execution_count": null,
   "id": "eb226789",
   "metadata": {},
   "outputs": [],
   "source": []
  },
  {
   "cell_type": "code",
   "execution_count": 62,
   "id": "2bec70ab",
   "metadata": {},
   "outputs": [],
   "source": [
    "day_new =np.arange(1,101)\n",
    "day_pred = np.arange(101,131)"
   ]
  },
  {
   "cell_type": "code",
   "execution_count": 63,
   "id": "f2aa99f5",
   "metadata": {},
   "outputs": [
    {
     "data": {
      "text/plain": [
       "1235"
      ]
     },
     "execution_count": 63,
     "metadata": {},
     "output_type": "execute_result"
    }
   ],
   "source": [
    "len(close_srt)"
   ]
  },
  {
   "cell_type": "code",
   "execution_count": 68,
   "id": "5a7f0692",
   "metadata": {},
   "outputs": [
    {
     "ename": "ValueError",
     "evalue": "x and y must have same first dimension, but have shapes (100,) and (1216, 1)",
     "output_type": "error",
     "traceback": [
      "\u001b[1;31m---------------------------------------------------------------------------\u001b[0m",
      "\u001b[1;31mValueError\u001b[0m                                Traceback (most recent call last)",
      "Input \u001b[1;32mIn [68]\u001b[0m, in \u001b[0;36m<cell line: 2>\u001b[1;34m()\u001b[0m\n\u001b[0;32m      1\u001b[0m plt\u001b[38;5;241m.\u001b[39mfigure(figsize\u001b[38;5;241m=\u001b[39m(\u001b[38;5;241m10\u001b[39m,\u001b[38;5;241m7\u001b[39m))\n\u001b[1;32m----> 2\u001b[0m \u001b[43mplt\u001b[49m\u001b[38;5;241;43m.\u001b[39;49m\u001b[43mplot\u001b[49m\u001b[43m(\u001b[49m\u001b[43mday_new\u001b[49m\u001b[43m,\u001b[49m\u001b[43mscaler\u001b[49m\u001b[38;5;241;43m.\u001b[39;49m\u001b[43minverse_transform\u001b[49m\u001b[43m(\u001b[49m\u001b[43mclose_srt\u001b[49m\u001b[43m[\u001b[49m\u001b[38;5;241;43m19\u001b[39;49m\u001b[43m:\u001b[49m\u001b[43m]\u001b[49m\u001b[43m)\u001b[49m\u001b[43m)\u001b[49m\n\u001b[0;32m      3\u001b[0m plt\u001b[38;5;241m.\u001b[39mplot(day_pred,scaler\u001b[38;5;241m.\u001b[39minverse_transform(lst_output))\n",
      "File \u001b[1;32m~\\anaconda6\\lib\\site-packages\\matplotlib\\pyplot.py:2757\u001b[0m, in \u001b[0;36mplot\u001b[1;34m(scalex, scaley, data, *args, **kwargs)\u001b[0m\n\u001b[0;32m   2755\u001b[0m \u001b[38;5;129m@_copy_docstring_and_deprecators\u001b[39m(Axes\u001b[38;5;241m.\u001b[39mplot)\n\u001b[0;32m   2756\u001b[0m \u001b[38;5;28;01mdef\u001b[39;00m \u001b[38;5;21mplot\u001b[39m(\u001b[38;5;241m*\u001b[39margs, scalex\u001b[38;5;241m=\u001b[39m\u001b[38;5;28;01mTrue\u001b[39;00m, scaley\u001b[38;5;241m=\u001b[39m\u001b[38;5;28;01mTrue\u001b[39;00m, data\u001b[38;5;241m=\u001b[39m\u001b[38;5;28;01mNone\u001b[39;00m, \u001b[38;5;241m*\u001b[39m\u001b[38;5;241m*\u001b[39mkwargs):\n\u001b[1;32m-> 2757\u001b[0m     \u001b[38;5;28;01mreturn\u001b[39;00m gca()\u001b[38;5;241m.\u001b[39mplot(\n\u001b[0;32m   2758\u001b[0m         \u001b[38;5;241m*\u001b[39margs, scalex\u001b[38;5;241m=\u001b[39mscalex, scaley\u001b[38;5;241m=\u001b[39mscaley,\n\u001b[0;32m   2759\u001b[0m         \u001b[38;5;241m*\u001b[39m\u001b[38;5;241m*\u001b[39m({\u001b[38;5;124m\"\u001b[39m\u001b[38;5;124mdata\u001b[39m\u001b[38;5;124m\"\u001b[39m: data} \u001b[38;5;28;01mif\u001b[39;00m data \u001b[38;5;129;01mis\u001b[39;00m \u001b[38;5;129;01mnot\u001b[39;00m \u001b[38;5;28;01mNone\u001b[39;00m \u001b[38;5;28;01melse\u001b[39;00m {}), \u001b[38;5;241m*\u001b[39m\u001b[38;5;241m*\u001b[39mkwargs)\n",
      "File \u001b[1;32m~\\anaconda6\\lib\\site-packages\\matplotlib\\axes\\_axes.py:1632\u001b[0m, in \u001b[0;36mAxes.plot\u001b[1;34m(self, scalex, scaley, data, *args, **kwargs)\u001b[0m\n\u001b[0;32m   1390\u001b[0m \u001b[38;5;124;03m\"\"\"\u001b[39;00m\n\u001b[0;32m   1391\u001b[0m \u001b[38;5;124;03mPlot y versus x as lines and/or markers.\u001b[39;00m\n\u001b[0;32m   1392\u001b[0m \n\u001b[1;32m   (...)\u001b[0m\n\u001b[0;32m   1629\u001b[0m \u001b[38;5;124;03m(``'green'``) or hex strings (``'#008000'``).\u001b[39;00m\n\u001b[0;32m   1630\u001b[0m \u001b[38;5;124;03m\"\"\"\u001b[39;00m\n\u001b[0;32m   1631\u001b[0m kwargs \u001b[38;5;241m=\u001b[39m cbook\u001b[38;5;241m.\u001b[39mnormalize_kwargs(kwargs, mlines\u001b[38;5;241m.\u001b[39mLine2D)\n\u001b[1;32m-> 1632\u001b[0m lines \u001b[38;5;241m=\u001b[39m [\u001b[38;5;241m*\u001b[39m\u001b[38;5;28mself\u001b[39m\u001b[38;5;241m.\u001b[39m_get_lines(\u001b[38;5;241m*\u001b[39margs, data\u001b[38;5;241m=\u001b[39mdata, \u001b[38;5;241m*\u001b[39m\u001b[38;5;241m*\u001b[39mkwargs)]\n\u001b[0;32m   1633\u001b[0m \u001b[38;5;28;01mfor\u001b[39;00m line \u001b[38;5;129;01min\u001b[39;00m lines:\n\u001b[0;32m   1634\u001b[0m     \u001b[38;5;28mself\u001b[39m\u001b[38;5;241m.\u001b[39madd_line(line)\n",
      "File \u001b[1;32m~\\anaconda6\\lib\\site-packages\\matplotlib\\axes\\_base.py:312\u001b[0m, in \u001b[0;36m_process_plot_var_args.__call__\u001b[1;34m(self, data, *args, **kwargs)\u001b[0m\n\u001b[0;32m    310\u001b[0m     this \u001b[38;5;241m+\u001b[39m\u001b[38;5;241m=\u001b[39m args[\u001b[38;5;241m0\u001b[39m],\n\u001b[0;32m    311\u001b[0m     args \u001b[38;5;241m=\u001b[39m args[\u001b[38;5;241m1\u001b[39m:]\n\u001b[1;32m--> 312\u001b[0m \u001b[38;5;28;01myield from\u001b[39;00m \u001b[38;5;28;43mself\u001b[39;49m\u001b[38;5;241;43m.\u001b[39;49m\u001b[43m_plot_args\u001b[49m\u001b[43m(\u001b[49m\u001b[43mthis\u001b[49m\u001b[43m,\u001b[49m\u001b[43m \u001b[49m\u001b[43mkwargs\u001b[49m\u001b[43m)\u001b[49m\n",
      "File \u001b[1;32m~\\anaconda6\\lib\\site-packages\\matplotlib\\axes\\_base.py:498\u001b[0m, in \u001b[0;36m_process_plot_var_args._plot_args\u001b[1;34m(self, tup, kwargs, return_kwargs)\u001b[0m\n\u001b[0;32m    495\u001b[0m     \u001b[38;5;28mself\u001b[39m\u001b[38;5;241m.\u001b[39maxes\u001b[38;5;241m.\u001b[39myaxis\u001b[38;5;241m.\u001b[39mupdate_units(y)\n\u001b[0;32m    497\u001b[0m \u001b[38;5;28;01mif\u001b[39;00m x\u001b[38;5;241m.\u001b[39mshape[\u001b[38;5;241m0\u001b[39m] \u001b[38;5;241m!=\u001b[39m y\u001b[38;5;241m.\u001b[39mshape[\u001b[38;5;241m0\u001b[39m]:\n\u001b[1;32m--> 498\u001b[0m     \u001b[38;5;28;01mraise\u001b[39;00m \u001b[38;5;167;01mValueError\u001b[39;00m(\u001b[38;5;124mf\u001b[39m\u001b[38;5;124m\"\u001b[39m\u001b[38;5;124mx and y must have same first dimension, but \u001b[39m\u001b[38;5;124m\"\u001b[39m\n\u001b[0;32m    499\u001b[0m                      \u001b[38;5;124mf\u001b[39m\u001b[38;5;124m\"\u001b[39m\u001b[38;5;124mhave shapes \u001b[39m\u001b[38;5;132;01m{\u001b[39;00mx\u001b[38;5;241m.\u001b[39mshape\u001b[38;5;132;01m}\u001b[39;00m\u001b[38;5;124m and \u001b[39m\u001b[38;5;132;01m{\u001b[39;00my\u001b[38;5;241m.\u001b[39mshape\u001b[38;5;132;01m}\u001b[39;00m\u001b[38;5;124m\"\u001b[39m)\n\u001b[0;32m    500\u001b[0m \u001b[38;5;28;01mif\u001b[39;00m x\u001b[38;5;241m.\u001b[39mndim \u001b[38;5;241m>\u001b[39m \u001b[38;5;241m2\u001b[39m \u001b[38;5;129;01mor\u001b[39;00m y\u001b[38;5;241m.\u001b[39mndim \u001b[38;5;241m>\u001b[39m \u001b[38;5;241m2\u001b[39m:\n\u001b[0;32m    501\u001b[0m     \u001b[38;5;28;01mraise\u001b[39;00m \u001b[38;5;167;01mValueError\u001b[39;00m(\u001b[38;5;124mf\u001b[39m\u001b[38;5;124m\"\u001b[39m\u001b[38;5;124mx and y can be no greater than 2D, but have \u001b[39m\u001b[38;5;124m\"\u001b[39m\n\u001b[0;32m    502\u001b[0m                      \u001b[38;5;124mf\u001b[39m\u001b[38;5;124m\"\u001b[39m\u001b[38;5;124mshapes \u001b[39m\u001b[38;5;132;01m{\u001b[39;00mx\u001b[38;5;241m.\u001b[39mshape\u001b[38;5;132;01m}\u001b[39;00m\u001b[38;5;124m and \u001b[39m\u001b[38;5;132;01m{\u001b[39;00my\u001b[38;5;241m.\u001b[39mshape\u001b[38;5;132;01m}\u001b[39;00m\u001b[38;5;124m\"\u001b[39m)\n",
      "\u001b[1;31mValueError\u001b[0m: x and y must have same first dimension, but have shapes (100,) and (1216, 1)"
     ]
    },
    {
     "data": {
      "image/png": "[encoded data removed]",
      "text/plain": [
       "<Figure size 720x504 with 1 Axes>"
      ]
     },
     "metadata": {
      "needs_background": "light"
     },
     "output_type": "display_data"
    }
   ],
   "source": [
    "plt.figure(figsize=(10,7))\n",
    "plt.plot(day_new,scaler.inverse_transform(close_srt[19:]))\n",
    "plt.plot(day_pred,scaler.inverse_transform(lst_output))"
   ]
  },
  {
   "cell_type": "code",
   "execution_count": null,
   "id": "ce945e83",
   "metadata": {},
   "outputs": [],
   "source": []
  }
 ],
 "metadata": {
  "kernelspec": {
   "display_name": "Python 3 (ipykernel)",
   "language": "python",
   "name": "python3"
  },
  "language_info": {
   "codemirror_mode": {
    "name": "ipython",
    "version": 3
   },
   "file_extension": ".py",
   "mimetype": "text/x-python",
   "name": "python",
   "nbconvert_exporter": "python",
   "pygments_lexer": "ipython3",
   "version": "3.9.12"
  }
 },
 "nbformat": 4,
 "nbformat_minor": 5
}
